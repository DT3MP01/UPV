{
  "cells": [
    {
      "cell_type": "markdown",
      "source": [
        "## Owlready2 \n",
        "\n",
        "Es un paquete para manipular ontologías OWL 2.0 en Python. Puede cargar, modificar y guardar ontologías, y soporta el razonamiento a través de HermiT (incluido). Owlready permite un acceso transparente a las ontologías OWL.\n",
        "\n",
        "## Owlready2 puede:\n",
        "\n",
        "\n",
        "1.   Importar ontologías en formato RDF/XML, OWL/XML o NTriples.\n",
        "\n",
        "2.   Manipular las clases, instancias y anotaciones de la ontología como si fueran objetos de Python.\n",
        "3.   Añade métodos de Python a las clases de la ontología. \n",
        "4.   Reclasifica automáticamente las instancias, utilizando el razonador HermiT.\n",
        "5.   Importar terminologías médicas desde UMLS (ver [PyMedTermino2](https://owlready2.readthedocs.io/en/stable/pymedtermino2.html)).\n",
        "\n"
      ],
      "metadata": {
        "id": "OvZtdHUh7Am0"
      }
    },
    {
      "cell_type": "markdown",
      "metadata": {
        "id": "iR8a1FTQJSWt"
      },
      "source": [
        "### 0. Instalación\n",
        "- Añade a conda el canal conda-forge\n",
        "- Instala el paquete owlready2"
      ]
    },
    {
      "cell_type": "code",
      "source": [
        "!pip install owlready2"
      ],
      "metadata": {
        "id": "vXFapJrGJeHq"
      },
      "execution_count": null,
      "outputs": []
    },
    {
      "cell_type": "code",
      "source": [
        "import os\n",
        "from owlready2 import *\n",
        "ontology_path = \"./rnews.owx\""
      ],
      "metadata": {
        "id": "-Nd9ODUtVBa6"
      },
      "execution_count": null,
      "outputs": []
    },
    {
      "cell_type": "markdown",
      "metadata": {
        "id": "7alRWwviJSWv"
      },
      "source": [
        "### 1 Gestión de ontologías\n",
        "#### 1.1 Creación de una ontología\n",
        "\n",
        "Para crear una ontología usa la función `get_ontology()` Toma como parámetro el IRI (identificador único, una especidde URL). Puedes usar `file://` para copias locales. \n",
        "\n",
        "#### 1.2 Carga de una ontología existente\n",
        "\n",
        "El método `.load()` carga una ontología. Puede llamarse de forma segura varias veces: no genera duplicados. Owlready2 lee tres foramtos: RDF/XML, OWL/XML y NTriples. El formato se detecta automáticamente. El parser de OWL no es completo, así que puede dar algún error al cargar ontologías externas. "
      ]
    },
    {
      "cell_type": "code",
      "execution_count": null,
      "metadata": {
        "id": "fzDi2lf2JSWw"
      },
      "outputs": [],
      "source": [
        "# crea una ontologia vacía\n",
        "# onto = get_ontology(\"http://www.lesfleursdunormal.fr/static/_downloads/pizza_onto.owl\")\n",
        "onto = get_ontology(ontology_path)\n",
        "\n",
        "# carga el contenido de la ontología\n",
        "onto.load()\n",
        "\n",
        "#añadir una ontología mas de un compañero\n",
        "# onto_path.append(\"/path/to/owlready/onto/\")"
      ]
    },
    {
      "cell_type": "markdown",
      "metadata": {
        "id": "nQyF8WbVJSWy"
      },
      "source": [
        "#### 1.3 Acceso a los datos\n",
        "Tenemos disponibles los siguientes métodos para acceder al contenido de la \n",
        "ontología. La mayoría proporciona un generador (ver la dopcumentación de owlready para la lista completa). Estos generadores permiten iterar sobre los elementos sin la necessidad de crear una lista. Si necesitas, la lista, siempre puedes generarla con `list()`\n",
        "\n",
        "- `.classes()` acceso a las clases\n",
        "- `.individuals()` acceso a las instancias\n",
        "- `.object_properties()` acceso a las `ObjectProperties` (relaciones entre clases)\n",
        "- `.data_properties()`  acceso a las `DataProperties` (atributos)\n",
        "- `.properties()` acceso a todas las propiedades definidas en la ontología"
      ]
    },
    {
      "cell_type": "code",
      "execution_count": null,
      "metadata": {
        "id": "_0N_EjwPJSWy"
      },
      "outputs": [],
      "source": [
        "# extracción de las clases\n",
        "print(list(onto.classes()))\n",
        "print(onto)"
      ]
    },
    {
      "cell_type": "code",
      "execution_count": null,
      "metadata": {
        "id": "3uj3EU5TJSWz"
      },
      "outputs": [],
      "source": [
        "# extracción de propiedades\n",
        "print(list(onto.properties()))"
      ]
    },
    {
      "cell_type": "code",
      "source": [
        "# extracción de individuals\n",
        "print(list(onto.individuals()))"
      ],
      "metadata": {
        "id": "P9WJdSvSH1M4"
      },
      "execution_count": null,
      "outputs": []
    },
    {
      "cell_type": "markdown",
      "metadata": {
        "id": "TIyI88wvJSW0"
      },
      "source": [
        "#### 1.4 Consultas simples\n",
        "\n",
        "El método `.search()` nos permite realizar consultas sencillas sobre la ontología. Los parámetros disponibles son\n",
        "- `iri` para localizar recursos por su IRI (de tipo string). Admite comodines \"*\"\n",
        "- `type` para localizar instancias (individuos) de una clase dada\n",
        "- `subclass_of` devuelve una lista con todas las subclases de la clase dada (sin estructurar)\n",
        "- `is_a` devuelve subclases e instancias\n",
        "- cualquier propiedad de la ontología\n",
        "\n",
        "Importante: la función `search()` no hace ningún tipo de razonamiento.\n",
        "\n"
      ]
    },
    {
      "cell_type": "code",
      "execution_count": null,
      "metadata": {
        "id": "qFH2GlDJJSW1"
      },
      "outputs": [],
      "source": [
        "onto.search(iri = \"*associated*\")"
      ]
    },
    {
      "cell_type": "code",
      "source": [
        "onto.search(comment = \"*\")"
      ],
      "metadata": {
        "id": "m43YHzLxR2Dm"
      },
      "execution_count": null,
      "outputs": []
    },
    {
      "cell_type": "code",
      "source": [
        "onto.search_one(is_a = onto.Article)"
      ],
      "metadata": {
        "id": "RMtxM-VOVERJ"
      },
      "execution_count": null,
      "outputs": []
    },
    {
      "cell_type": "markdown",
      "source": [
        "***EJERCICIOS:***\n",
        "\n",
        "\n",
        "1.   Busca todos los individuales\n",
        "2.   Busca todos los individuales que tengan imágenes\n",
        "3.   Muestra todas las personas \"creators\" que tengan un artículo\n",
        "\n"
      ],
      "metadata": {
        "id": "wt_X5MiKNeXe"
      }
    },
    {
      "cell_type": "code",
      "source": [
        "## Ejercicio 1\n",
        "\n",
        "## Ejercicio 2\n",
        "\n",
        "## Ejercicio 3\n"
      ],
      "metadata": {
        "id": "76rzZFbkOGwj"
      },
      "execution_count": null,
      "outputs": []
    },
    {
      "cell_type": "markdown",
      "metadata": {
        "id": "HrJnWSk1JSW2"
      },
      "source": [
        "#### 1.5 Guardar la ontología\n",
        "\n",
        "El método `.save()` guarda los cambios en la ontología. Si se especifica un fichero (con el parámetro `file`) se crea el ficehro en el directorio actual. Por defecto, se guarda en formato RDF/XML. Se puede indicar el formato deseado con `format` NOTA: no está soportada la escritura de ficheros OWL/XML"
      ]
    },
    {
      "cell_type": "code",
      "execution_count": null,
      "metadata": {
        "id": "mDQ-9uuKJSW3"
      },
      "outputs": [],
      "source": [
        "onto.save(ontology_path.split(\"./\")[1].split(\".\")[0]+\"_updated.owx\")"
      ]
    },
    {
      "cell_type": "markdown",
      "source": [
        "### **2. Clases e instancias**\n",
        "#### 2.1 Creación de clases\n"
      ],
      "metadata": {
        "id": "zHS0Xa3eLK4-"
      }
    },
    {
      "cell_type": "code",
      "source": [
        "with onto:\n",
        "  class TestNoticia(Thing):\n",
        "    pass\n",
        "  class TNImage(TestNoticia):\n",
        "    pass"
      ],
      "metadata": {
        "id": "5Hr4FH6FLaFe"
      },
      "execution_count": null,
      "outputs": []
    },
    {
      "cell_type": "code",
      "source": [
        "TestNoticia.iri"
      ],
      "metadata": {
        "id": "rpM-qDE6Lufe"
      },
      "execution_count": null,
      "outputs": []
    },
    {
      "cell_type": "code",
      "source": [
        "TNImage.is_a"
      ],
      "metadata": {
        "id": "yaCv2joqL7Yb"
      },
      "execution_count": null,
      "outputs": []
    },
    {
      "cell_type": "markdown",
      "source": [
        "El método .subclasses() devuelve la lista de subclases directas de una clase.\n",
        "\n",
        "Los métodos de clase .descendants() y .ancestors() devuelven un conjunto de las clases descendientes y ancestrales (incluyendo a self, pero excluyendo las clases que no son entidades, como las restricciones)."
      ],
      "metadata": {
        "id": "iZM5PZGOMMwu"
      }
    },
    {
      "cell_type": "code",
      "source": [
        "print(TestNoticia.subclasses())\n",
        "print(TestNoticia.descendants())\n",
        "print(TNImage.ancestors())"
      ],
      "metadata": {
        "id": "5zThSkiwMMgj"
      },
      "execution_count": null,
      "outputs": []
    },
    {
      "cell_type": "markdown",
      "source": [
        "Añadir subclases, propiedades y relaciones."
      ],
      "metadata": {
        "id": "gtMJ_EWMM3vI"
      }
    },
    {
      "cell_type": "code",
      "source": [
        "TNImage.is_a.append(onto[\"Article\"])"
      ],
      "metadata": {
        "id": "kuo2D6njNAPK"
      },
      "execution_count": null,
      "outputs": []
    }
  ],
  "metadata": {
    "kernelspec": {
      "display_name": "Python 3",
      "language": "python",
      "name": "python3"
    },
    "language_info": {
      "codemirror_mode": {
        "name": "ipython",
        "version": 3
      },
      "file_extension": ".py",
      "mimetype": "text/x-python",
      "name": "python",
      "nbconvert_exporter": "python",
      "pygments_lexer": "ipython3",
      "version": "3.8.5"
    },
    "colab": {
      "provenance": []
    }
  },
  "nbformat": 4,
  "nbformat_minor": 0
}