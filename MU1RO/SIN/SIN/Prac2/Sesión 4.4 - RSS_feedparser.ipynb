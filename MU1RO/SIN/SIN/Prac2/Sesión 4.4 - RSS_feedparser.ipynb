{
  "cells": [
    {
      "cell_type": "code",
      "execution_count": null,
      "metadata": {
        "scrolled": false,
        "id": "UJJc4rgaqZnt"
      },
      "outputs": [],
      "source": [
        "%%HTML\n",
        "### Cambiamos los tamaños de fuente asociados a las tablas\n",
        "<style>\n",
        "    tr { font-size: 18px; background-color: lightblue; font-color: orange}\n",
        "    td { font-size: 18px; }\n",
        "</style>"
      ]
    },
    {
      "cell_type": "markdown",
      "metadata": {
        "id": "hqKr0AtcqZnw"
      },
      "source": [
        "## RSS"
      ]
    },
    {
      "cell_type": "markdown",
      "metadata": {
        "id": "WdT0XbXzqZrU"
      },
      "source": [
        "***RSS (Rich Site Summary)*** es un formato para entregar regularmente el contenido cambiante de una web. Muchos sitios web relacionados con noticias, weblogs y otras publicaciones online sindican sus contenidos como una fuente ***RSS*** para quien lo quiera."
      ]
    },
    {
      "cell_type": "markdown",
      "metadata": {
        "id": "JxsENKDhqZrW"
      },
      "source": [
        "### Elementos de un RSS"
      ]
    },
    {
      "cell_type": "markdown",
      "metadata": {
        "id": "Oh0mqdjsqZrW"
      },
      "source": [
        "Los elementos más comúnmente usados en una fuente RSS son ***title***, ***link***, ***description***, ***publication date***, y ***entry ID***. También podemos encontrar otros elementos menos usados como ***image***, ***categories***, ***enclosures*** y ***cloud***."
      ]
    },
    {
      "cell_type": "markdown",
      "metadata": {
        "id": "5UgWIIVsqZrX"
      },
      "source": [
        "### Leer fuentes RSS en Python - feedparser"
      ]
    },
    {
      "cell_type": "code",
      "execution_count": null,
      "metadata": {
        "id": "Vw_oK9CPqZrX"
      },
      "outputs": [],
      "source": [
        "!pip install feedparser"
      ]
    },
    {
      "cell_type": "markdown",
      "metadata": {
        "id": "UV1WZuyCqZrY"
      },
      "source": [
        "### Conseguir la estructura de la fuente RSS"
      ]
    },
    {
      "cell_type": "code",
      "execution_count": null,
      "metadata": {
        "id": "BzjmfV3BqZrZ"
      },
      "outputs": [],
      "source": [
        "import feedparser\n",
        "NewsFeed = feedparser.parse(\"https://feeds.elpais.com/mrss-s/pages/ep/site/elpais.com/portada\")\n",
        "entry = NewsFeed.entries[1]\n",
        "\n",
        "print(entry.keys())"
      ]
    },
    {
      "cell_type": "markdown",
      "metadata": {
        "id": "O74AqlzfqZrZ"
      },
      "source": [
        "### Título y Cabecera de la fuente RSS"
      ]
    },
    {
      "cell_type": "markdown",
      "metadata": {
        "id": "AUZoEL8-qZrb"
      },
      "source": [
        "`print_feed(link)`es una función que permite realizar una consulta a un *RSS* pasado como parámetro, e imprimir por pantalla los resultados obtenidos."
      ]
    },
    {
      "cell_type": "code",
      "execution_count": null,
      "metadata": {
        "id": "KajvdZn5qZrc"
      },
      "outputs": [],
      "source": [
        "def print_feed (link):\n",
        "    newsFeed = feedparser.parse(link)\n",
        "    \n",
        "    for ent in range(len(newsFeed.entries)):\n",
        "        print(ent, '- ')\n",
        "        for k in newsFeed.entries[ent].keys(): #entry.keys():\n",
        "            print('   ', newsFeed.entries[ent][k])"
      ]
    },
    {
      "cell_type": "code",
      "execution_count": null,
      "metadata": {
        "id": "iLP3ElNTqZre"
      },
      "outputs": [],
      "source": [
        "print_feed(\"https://feeds.elpais.com/mrss-s/pages/ep/site/elpais.com/portada\")"
      ]
    },
    {
      "cell_type": "code",
      "execution_count": null,
      "metadata": {
        "id": "eUI708YEqZrg"
      },
      "outputs": [],
      "source": [
        "print('Número de publicaciones RSS :', len(NewsFeed.entries))\n",
        "print('- Título de la Publicación : ', entry.title)\n",
        "print('   - Detalle del título: ', entry.title_detail)\n",
        "print('   - Publicado: ', entry.published)\n",
        "print('   - Published Parsed: ', entry.published_parsed)\n",
        "print('   - Links: ', entry.links)\n",
        "print('   - Authors: ', entry.authors)\n",
        "print('   - Author: ', entry.author)\n",
        "print('   - Detalle del autor: ', entry.author_detail)\n",
        "print('   - DC Terms Alternative: ', entry.dcterms_alternative)\n",
        "print('   - Resumen: ', entry.summary)\n",
        "print('   - Detalle del resumen: ', entry.summary_detail)\n",
        "print('   - Etiquetas: ', entry.tags)\n",
        "print('   - Media Content: ', entry.media_content)\n",
        "print('   - Media Credit: ', entry.media_credit)\n",
        "print('   - Crédito: ', entry.credit)\n",
        "print('   - Media Text: ', entry.media_text)\n",
        "print('   - Contenido: ', entry.content)"
      ]
    },
    {
      "cell_type": "markdown",
      "metadata": {
        "id": "7FkrB48PqZrh"
      },
      "source": [
        "**¡¡¡OJO!!!** No todas las fuentes RSS funcionan bien con la biblioteca que estamos usando. \n",
        "Prueba rápida: Imprimir el feed usando ***print_feed()*** y si no funciona bien, no conseguiréis ningún resultado:"
      ]
    },
    {
      "cell_type": "markdown",
      "metadata": {
        "id": "CTzzBz0cqZrh"
      },
      "source": [
        "<A href=https://validator.w3.org/feed/>W3C.org RSS feed validator</A>"
      ]
    },
    {
      "cell_type": "code",
      "execution_count": null,
      "metadata": {
        "id": "Ada2qerXqZrh"
      },
      "outputs": [],
      "source": [
        "print_feed(\"https://www.lasprovincias.es/rss/2.0/?section=ultima-hora\")"
      ]
    },
    {
      "cell_type": "code",
      "execution_count": null,
      "metadata": {
        "id": "1by4lJyzqZrj"
      },
      "outputs": [],
      "source": [
        "print_feed(\"https://www.levante-emv.com/rss/section/4762\")"
      ]
    },
    {
      "cell_type": "code",
      "execution_count": null,
      "metadata": {
        "id": "ScDPqh2oqZrj"
      },
      "outputs": [],
      "source": [
        "print_feed(\"https://www.abc.es/rss/feeds/abcPortada.xml\")"
      ]
    },
    {
      "cell_type": "code",
      "execution_count": null,
      "metadata": {
        "id": "j4VUDzkpqZrk"
      },
      "outputs": [],
      "source": [
        "### El Mundo - Portada\n",
        "print_feed(\"https://e00-elmundo.uecdn.es/elmundo/rss/portada.xml\")"
      ]
    },
    {
      "cell_type": "code",
      "execution_count": null,
      "metadata": {
        "id": "jTu313OFqZrk"
      },
      "outputs": [],
      "source": [
        "### El Periodista Digital - Portada\n",
        "print_feed(\"http://feeds.feedburner.com/PDPortada\")"
      ]
    },
    {
      "cell_type": "code",
      "execution_count": null,
      "metadata": {
        "id": "da0AE9WEqZrm"
      },
      "outputs": [],
      "source": [
        "### Libertad Digital - Portada\n",
        "print_feed(\"http://feeds2.feedburner.com/libertaddigital/portada\")"
      ]
    },
    {
      "cell_type": "code",
      "execution_count": null,
      "metadata": {
        "id": "-xiKWpdoqZrm"
      },
      "outputs": [],
      "source": [
        "### Marca - Portada\n",
        "print_feed(\"https://e00-marca.uecdn.es/rss/portada.xml\")"
      ]
    },
    {
      "cell_type": "code",
      "execution_count": null,
      "metadata": {
        "id": "OUIAgodtqZrn"
      },
      "outputs": [],
      "source": [
        "### As - Portada\n",
        "print_feed(\"https://as.com/rss/diarioas/portada.xml\")"
      ]
    },
    {
      "cell_type": "code",
      "execution_count": null,
      "metadata": {
        "id": "PCQGAfN6qZrn"
      },
      "outputs": [],
      "source": [
        "### SPORT - Últimas Noticias\n",
        "print_feed(\"https://www.sport.es/es/rss/last_news/rss.xml\")"
      ]
    },
    {
      "cell_type": "code",
      "execution_count": null,
      "metadata": {
        "id": "K8r55XG_qZrn"
      },
      "outputs": [],
      "source": [
        "### Octeto\n",
        "print_feed(\"http://cent.uji.es/octeto/node/feed\")"
      ]
    },
    {
      "cell_type": "code",
      "execution_count": null,
      "metadata": {
        "id": "iPuoCemFqZro"
      },
      "outputs": [],
      "source": [
        "### IBL News - Main\n",
        "print_feed(\"https://iblnews.org/feed/\")"
      ]
    },
    {
      "cell_type": "code",
      "execution_count": null,
      "metadata": {
        "id": "nXepE_YEqZro"
      },
      "outputs": [],
      "source": [
        "### NY Times\n",
        "print_feed(\"https://rss.nytimes.com/services/xml/rss/nyt/HomePage.xml\")"
      ]
    },
    {
      "cell_type": "markdown",
      "metadata": {
        "id": "ABcjb5H-qZro"
      },
      "source": [
        "### Detalles de la fuente RSS"
      ]
    },
    {
      "cell_type": "markdown",
      "metadata": {
        "id": "MXM9fopOqZrp"
      },
      "source": [
        "Como ***entry*** es un diccionario, se pueden utilizar sus claves para producir los valores necesitados."
      ]
    },
    {
      "cell_type": "code",
      "execution_count": null,
      "metadata": {
        "id": "xmce2uF-qZrp"
      },
      "outputs": [],
      "source": [
        "print(entry.published)\n",
        "print(\"******\")\n",
        "print(entry.summary)\n",
        "print(\"------News Link--------\")\n",
        "print(entry.link)\n",
        "print(\"------News Tags--------\")\n",
        "print(entry.tags)"
      ]
    },
    {
      "cell_type": "markdown",
      "metadata": {
        "id": "yJdwixOXqZrp"
      },
      "source": [
        "### Fuentes OPML"
      ]
    },
    {
      "cell_type": "markdown",
      "metadata": {
        "id": "ju7cx4rnqZrp"
      },
      "source": [
        "***OPML (Outline Processor Markup Language)*** es un formato XML para esquemas (outlines). Fue creado inicialmente por Radio Userland para aplicaciones que procesen texto en forma de esquema, aunque su uso más habitual hoy en día es para listar varias fuentes RSS juntas. (Fuente: Wikipedia)"
      ]
    },
    {
      "cell_type": "code",
      "execution_count": null,
      "metadata": {
        "id": "eMwSReVjqZrp"
      },
      "outputs": [],
      "source": [
        "sOPML_ElMundo = \"http://rss.elmundo.es/rss/static/elmundo_OPML.xml\"\n",
        "ElMundoNewsFeed = feedparser.parse(sOPML_ElMundo)"
      ]
    },
    {
      "cell_type": "code",
      "execution_count": null,
      "metadata": {
        "id": "LcTcFNNGqZrq"
      },
      "outputs": [],
      "source": [
        "print(ElMundoNewsFeed)"
      ]
    },
    {
      "cell_type": "markdown",
      "metadata": {
        "id": "xT3VvIgzqZrq"
      },
      "source": [
        "### Función de Utilidad: `extract_rss_urls_from_opml()`"
      ]
    },
    {
      "cell_type": "markdown",
      "metadata": {
        "id": "ubPfRx-mqZrq"
      },
      "source": [
        "Esta función develve una lista con las direcciones almacenadas en el fichero **OPML** que se encuentra en la dirección pasada como argumento. Para ello, necesitamos instalar previamente el módulo **requests**"
      ]
    },
    {
      "cell_type": "code",
      "execution_count": null,
      "metadata": {
        "id": "Nzu2w4FWqZrq"
      },
      "outputs": [],
      "source": [
        "!pip install requests"
      ]
    },
    {
      "cell_type": "code",
      "execution_count": null,
      "metadata": {
        "id": "BQnBUtxfqZrq"
      },
      "outputs": [],
      "source": [
        "from xml.etree import ElementTree\n",
        "import sys\n",
        "import requests\n",
        "\n",
        "#file_opml = sys.argv[1]\n",
        "#def extract_rss_urls_from_opml(filename):\n",
        "def extract_rss_urls_from_opml(OPML_link):\n",
        "    urls = []\n",
        "    '''\n",
        "    with open(filename, 'rt') as f:\n",
        "        tree = ElementTree.parse(f)\n",
        "    '''\n",
        "    resp = requests.get(OPML_link)\n",
        "    #print(\"OPML -- \", resp.text)\n",
        "    tree = ElementTree.fromstring(resp.text)\n",
        "    for node in tree.findall('.//outline'):\n",
        "        url = node.attrib.get('xmlUrl')\n",
        "        if url:\n",
        "            urls.append(url)\n",
        "    return urls"
      ]
    },
    {
      "cell_type": "code",
      "execution_count": null,
      "metadata": {
        "scrolled": true,
        "id": "BB1NSB84qZrs"
      },
      "outputs": [],
      "source": [
        "urls = extract_rss_urls_from_opml(sOPML_ElMundo)\n",
        "print(urls)"
      ]
    },
    {
      "cell_type": "markdown",
      "metadata": {
        "id": "PLC1dQ2yqZru"
      },
      "source": [
        "| Ejercicio 1 |\n",
        "|------------:|\n",
        "| Haced una función que dada una lista con urls como argumento, genere un diccionario como el que devuelve *feedparser* pero con todas las noticias encontradas en todas las urls de la lista.|"
      ]
    },
    {
      "cell_type": "code",
      "execution_count": null,
      "metadata": {
        "id": "OEF7Pu0BqZrv"
      },
      "outputs": [],
      "source": [
        "from collections import defaultdict\n",
        "\n",
        "def lista_rss_a_dict_noticias( lista_urls ):\n",
        "    dict_noticias = defaultdict(list)\n",
        "    \n",
        "    for url in lista_urls:\n",
        "        dict_parser = feedparser.parse(url)\n",
        "        \n",
        "        if dict_parser['entries'] != []:\n",
        "            for k, v in dict_parser.items():\n",
        "                dict_noticias[k].append(v)\n",
        "\n",
        "    return dict_noticias"
      ]
    },
    {
      "cell_type": "code",
      "execution_count": null,
      "metadata": {
        "id": "n6MVu7gdqZrv"
      },
      "outputs": [],
      "source": [
        "###urls = extract_rss_urls_from_opml(sOPML_ElMundo)\n",
        "\n",
        "###dict_news = lista_rss_a_dict_noticias(urls)\n",
        "\n",
        "###print(dict_news)"
      ]
    },
    {
      "cell_type": "code",
      "execution_count": null,
      "metadata": {
        "id": "U3VWZldzqZrv"
      },
      "outputs": [],
      "source": [
        "lista_urls = [\"https://www.lasprovincias.es/rss/2.0/?section=ultima-hora\", \"https://www.levante-emv.com/rss/section/4762\", \"https://e00-marca.uecdn.es/rss/baloncesto/acb.xml\"]\n",
        "dict_news = lista_rss_a_dict_noticias(lista_urls)\n",
        "\n",
        "dict_news"
      ]
    },
    {
      "cell_type": "markdown",
      "metadata": {
        "id": "SfxClr26qZrz"
      },
      "source": [
        "## Ontologías - OWL"
      ]
    },
    {
      "cell_type": "markdown",
      "metadata": {
        "id": "z5fZV6MfqZr3"
      },
      "source": [
        "Podemos ver una ontología como un vocabulario común sobre un tema, compuesto por una serie de conceptos y relaciones. \n",
        "A nivel práctico, esto supone que se tenga este vocabulario fijo, y común para todas las partes que se comuniquen, y que el conocimiento representado esté compuesto por una serie de individuos o instancias de esos conceptos y relaciones."
      ]
    },
    {
      "cell_type": "markdown",
      "metadata": {
        "id": "NBs_tkXzqZr4"
      },
      "source": [
        "### [Installing OWLReady2 library](http://pythonhosted.org/Owlready2/index.html)"
      ]
    },
    {
      "cell_type": "code",
      "execution_count": null,
      "metadata": {
        "id": "nJ5OjbIMqZr4"
      },
      "outputs": [],
      "source": [
        "!pip install owlready2"
      ]
    },
    {
      "cell_type": "code",
      "execution_count": null,
      "metadata": {
        "id": "N5hYM3uHqZr4"
      },
      "outputs": [],
      "source": [
        "from owlready2 import *"
      ]
    },
    {
      "cell_type": "code",
      "execution_count": null,
      "metadata": {
        "id": "mQALJxewqZr4"
      },
      "outputs": [],
      "source": [
        "%pwd"
      ]
    },
    {
      "cell_type": "code",
      "execution_count": null,
      "metadata": {
        "id": "QewS8l5UqZr5"
      },
      "outputs": [],
      "source": [
        "%cd ./ontology_repository"
      ]
    },
    {
      "cell_type": "markdown",
      "metadata": {
        "id": "JuG_-5_WqZr5"
      },
      "source": [
        "### [rNews](http://dev.iptc.org/rNews-1-Introduction-to-rNews)"
      ]
    },
    {
      "cell_type": "markdown",
      "metadata": {
        "id": "4YAMGGyJqZr5"
      },
      "source": [
        "Esta ontología fue creada por *IPTC* junto a un consorcio de las principales agencias de noticias del mundo, junto a los principales medios de comunicación como la *BBC*, el *NY Times*, o incluso *Google*.\n",
        "La idea es de disponer de un conjunto de conceptos y relaciones básicas para poder representar toda la información de una noticia."
      ]
    },
    {
      "cell_type": "markdown",
      "metadata": {
        "id": "ZYgATnVCqZr5"
      },
      "source": [
        "<img src=\"http://dev.iptc.org/files/rNews-1-Introduction-to-rNews/rnews_1_2-w810.png\"/>"
      ]
    },
    {
      "cell_type": "markdown",
      "metadata": {
        "id": "Oks9gpxRqZr5"
      },
      "source": [
        "Para poder conocer mejor la ontología, además de consultar la documentación que podéis encontrar a partir de la web indicada arriba, podéis utilizar **Protégé**:\n",
        "   * Abrid esta aplicación.\n",
        "   * En el panel de abajo elegid `Direct imports`.\n",
        "   * Elegid la opción `Import an ontology contained in a document located in the web`.\n",
        "   * En la `URI`poned: http://dev.iptc.org/files/rNews/rnews_1.0_draft3_rdfxml.owl"
      ]
    },
    {
      "cell_type": "markdown",
      "metadata": {
        "id": "ew2WYQu7qZr5"
      },
      "source": [
        "![Protege_importar_onto.png](attachment:Protege_importar_onto.png)"
      ]
    },
    {
      "cell_type": "markdown",
      "metadata": {
        "id": "ck_zKb_uqZr6"
      },
      "source": [
        "Esto permite importar la ontología **rNews** y poder consultar cómo está estructurada (clases, propiedades, ...), permitiendo ver cómo podemos estructurar nuestras noticias para representarlas usando dicha ontología."
      ]
    },
    {
      "cell_type": "markdown",
      "metadata": {
        "id": "KlfLXz3mqZr6"
      },
      "source": [
        "**Visualizacion de Ontologias**\n",
        "\n",
        "Con el fin de poder visualizar las estructuras de nuestras ontologias, las web llamada [WebOWL](http://vowl.visualdataweb.org/webvowl.html). WebVOWL es una aplicación web para la visualización interactiva de ontologías. Implementa la Notación Visual para Ontologías OWL (VOWL) proporcionando representaciones gráficas para elementos del Lenguaje de Ontología Web (OWL) que se combinan en un diseño gráfico dirigido por la fuerza que representa la ontología. Las técnicas de interacción permiten explorar la ontología y personalizar la visualización. Las visualizaciones del OWL se generan automáticamente a partir de los archivos JSON en los que las ontologías deben ser convertidas. Se proporciona un convertidor OWL2VOWL basado en Java junto con WebVOWL.\n",
        "\n",
        "[rNewsOntology](http://www.visualdataweb.de/webvowl/#iri=http://dev.iptc.org/files/rNews/rnews_1.0_draft3_rdfxml.owl#)"
      ]
    },
    {
      "cell_type": "code",
      "execution_count": null,
      "metadata": {
        "id": "0nOtY8o_qZr6"
      },
      "outputs": [],
      "source": [
        "onto = get_ontology(\"http://dev.iptc.org/files/rNews/rnews_1.0_draft3_rdfxml.owl\")"
      ]
    },
    {
      "cell_type": "code",
      "execution_count": null,
      "metadata": {
        "id": "7P2_b4kSqZr6"
      },
      "outputs": [],
      "source": [
        "onto.load()"
      ]
    },
    {
      "cell_type": "code",
      "execution_count": null,
      "metadata": {
        "id": "C-nzt5CCqZr7"
      },
      "outputs": [],
      "source": [
        "onto.classes()"
      ]
    },
    {
      "cell_type": "code",
      "execution_count": null,
      "metadata": {
        "id": "bX2sb68bqZr7"
      },
      "outputs": [],
      "source": [
        "for i in onto.classes():\n",
        "    print(i)"
      ]
    },
    {
      "cell_type": "code",
      "execution_count": null,
      "metadata": {
        "id": "8r-Gf1eAqZr7"
      },
      "outputs": [],
      "source": [
        "list(onto.classes())"
      ]
    },
    {
      "cell_type": "code",
      "execution_count": null,
      "metadata": {
        "id": "mZEPiGfMqZr7"
      },
      "outputs": [],
      "source": [
        "list(onto.properties())"
      ]
    },
    {
      "cell_type": "code",
      "execution_count": null,
      "metadata": {
        "id": "KhJ3-5qUqZr8"
      },
      "outputs": [],
      "source": [
        "list(onto.object_properties())"
      ]
    },
    {
      "cell_type": "code",
      "execution_count": null,
      "metadata": {
        "id": "1UKXN38NqZr8"
      },
      "outputs": [],
      "source": [
        "instNoticia1 = onto.NewsItem(\"Noticia1\")"
      ]
    },
    {
      "cell_type": "code",
      "execution_count": null,
      "metadata": {
        "id": "YmBpmvaaqZr8"
      },
      "outputs": [],
      "source": [
        "instN = onto.NewsItem()\n",
        "print(instN.name)"
      ]
    },
    {
      "cell_type": "code",
      "execution_count": null,
      "metadata": {
        "id": "ewMaeMAcqZr8"
      },
      "outputs": [],
      "source": [
        "print(instNoticia1.name)"
      ]
    },
    {
      "cell_type": "markdown",
      "metadata": {
        "id": "MWXUK0urqZr-"
      },
      "source": [
        "### Valores para las `data properties`\n",
        "`Data properties` son propiedades que tiene un tipo de datos en el `rango`."
      ]
    },
    {
      "cell_type": "code",
      "execution_count": null,
      "metadata": {
        "id": "5gbXFCSeqZr-"
      },
      "outputs": [],
      "source": [
        "instNoticia1.wordCount = [300]"
      ]
    },
    {
      "cell_type": "code",
      "execution_count": null,
      "metadata": {
        "id": "8bnI6V26qZr_"
      },
      "outputs": [],
      "source": [
        "instNoticia1.headline = [\"Titular de la noticia\"]"
      ]
    },
    {
      "cell_type": "code",
      "execution_count": null,
      "metadata": {
        "id": "aZ7q6DptqZr_"
      },
      "outputs": [],
      "source": [
        "for i in onto.NewsItem.instances():\n",
        "    print(i)"
      ]
    },
    {
      "cell_type": "code",
      "execution_count": null,
      "metadata": {
        "id": "zsCN6AKbqZr_"
      },
      "outputs": [],
      "source": [
        "instNoticia1.get_properties()"
      ]
    },
    {
      "cell_type": "code",
      "execution_count": null,
      "metadata": {
        "id": "9S4vVwwIqZr_"
      },
      "outputs": [],
      "source": [
        "instNoticia1.headline"
      ]
    },
    {
      "cell_type": "code",
      "execution_count": null,
      "metadata": {
        "id": "Pv-sZ2CRqZsA"
      },
      "outputs": [],
      "source": [
        "for prop in onto.Noticia1.get_properties():\n",
        "    for value in prop[onto.Noticia1]:\n",
        "        print(\".%s == %s\" % (prop.python_name, value))"
      ]
    },
    {
      "cell_type": "markdown",
      "metadata": {
        "id": "TpFCeTKgqZsC"
      },
      "source": [
        "| Ejercicio 2 |\n",
        "| -----------:|\n",
        "| Dada la estructura de la fuente RSS \"El País\", obtenida al comienzo de este boletín, indica la equivalencia entre cada una de las claves obtenidas y las instancias, conceptos y propiedades de ***rNews***. |"
      ]
    },
    {
      "cell_type": "markdown",
      "metadata": {
        "id": "V8p8cdfjqZsD"
      },
      "source": []
    },
    {
      "cell_type": "markdown",
      "metadata": {
        "id": "KPyKNyAOqZsD"
      },
      "source": [
        "| Ejercicio 3 |\n",
        "| -----------: |\n",
        "| Crear una función que permita a partir de una lista con direcciones de RSS, generar las instancias de *rNews* oportunas para representar las noticias encontradas en dichas RSS. |"
      ]
    },
    {
      "cell_type": "code",
      "execution_count": null,
      "metadata": {
        "id": "7kayI1G8qZsD"
      },
      "outputs": [],
      "source": [
        "def Ejercicio3( lista_rss, onto ):\n",
        "    dict_news = lista_rss_a_dict_noticias(lista_rss)\n",
        "        \n",
        "    for ent in dict_news['entries'][0]:\n",
        "        inst = onto.NewsItem()\n",
        "        \n",
        "        lista_k = ent.keys()\n",
        "        \n",
        "        if 'link' in lista_k:\n",
        "            inst.url.append(ent['link'])\n",
        "        \n",
        "        if 'title' in lista_k:\n",
        "            inst.headline.append(ent['title'])\n",
        "            \n",
        "        if 'content' in lista_k:\n",
        "            ### print(\"- Content: \", ent['content'])\n",
        "            inst.articleBody.append(ent['content'][0]['value'])\n",
        "            \n",
        "        if 'author' in lista_k:\n",
        "            insP = onto.search(is_a=onto.Person)\n",
        "            existe = 0\n",
        "            for i in insP:\n",
        "                if i.name == ent['author']:\n",
        "                    inst.creator.append(i)\n",
        "                    existe = 1\n",
        "            if (existe == 0):\n",
        "                inst_aut = onto.Person()\n",
        "                inst_aut.name = ent['author']\n",
        "                inst.creator.append(inst_aut) "
      ]
    },
    {
      "cell_type": "code",
      "execution_count": null,
      "metadata": {
        "id": "mly3jQJvqZsE"
      },
      "outputs": [],
      "source": [
        "dict_news = lista_rss_a_dict_noticias(lista_urls)\n",
        "dict_news"
      ]
    },
    {
      "cell_type": "code",
      "execution_count": null,
      "metadata": {
        "id": "V-qOzgGnqZsG"
      },
      "outputs": [],
      "source": [
        "print(lista_urls)\n",
        "Ejercicio3(lista_urls, onto)"
      ]
    },
    {
      "cell_type": "code",
      "execution_count": null,
      "metadata": {
        "scrolled": true,
        "id": "jRycg1k7qZsH"
      },
      "outputs": [],
      "source": [
        "for ins in onto.NewsItem.instances():\n",
        "    print(ins.headline)"
      ]
    },
    {
      "cell_type": "markdown",
      "metadata": {
        "id": "_cCJpqJdqZsH"
      },
      "source": [
        "| Ejercicio 4 |\n",
        "| -----------: |\n",
        "| Probad la función anterior pasándole una lista con 3 direcciones de RSS de tres periódicos españoles distintos.|"
      ]
    },
    {
      "cell_type": "code",
      "execution_count": null,
      "metadata": {
        "id": "tUq91DFuqZsH"
      },
      "outputs": [],
      "source": [
        "lista_urls = [\"https://www.lasprovincias.es/rss/2.0/?section=ultima-hora\", \"https://www.levante-emv.com/rss/section/4762\", \"https://e00-marca.uecdn.es/rss/baloncesto/acb.xml\"]\n",
        "\n",
        "Ejercicio3(lista_urls, onto)"
      ]
    }
  ],
  "metadata": {
    "kernelspec": {
      "display_name": "Python 3",
      "language": "python",
      "name": "python3"
    },
    "language_info": {
      "codemirror_mode": {
        "name": "ipython",
        "version": 3
      },
      "file_extension": ".py",
      "mimetype": "text/x-python",
      "name": "python",
      "nbconvert_exporter": "python",
      "pygments_lexer": "ipython3",
      "version": "3.8.10"
    },
    "colab": {
      "provenance": [],
      "toc_visible": true
    }
  },
  "nbformat": 4,
  "nbformat_minor": 0
}